{
 "cells": [
  {
   "cell_type": "markdown",
   "id": "ad04ab99-4d0a-4e96-8c28-a1ebcdd896a1",
   "metadata": {},
   "source": [
    "# DAT - simple scoring"
   ]
  },
  {
   "cell_type": "code",
   "execution_count": null,
   "id": "847db2e5-2179-41e0-bcd9-a1ebeea8dc36",
   "metadata": {
    "tags": []
   },
   "outputs": [],
   "source": [
    "from dat_computer import DatComputer\n",
    "import pandas as pd\n",
    "import scipy"
   ]
  },
  {
   "cell_type": "code",
   "execution_count": null,
   "id": "d818eb9c-5dc7-4623-9119-8039479b397b",
   "metadata": {},
   "outputs": [],
   "source": [
    "#read xlsx file with participants' answers \n",
    "file_name = 'dat-data.xlsx'\n",
    "\n",
    "df_upload = pd.read_excel(file_name, header=None, dtype=str)\n",
    "df_upload = df_upload.fillna(value=' ')\n",
    "dat_data = df_upload.values.tolist()\n",
    "print('upload successful')\n"
   ]
  },
  {
   "cell_type": "code",
   "execution_count": null,
   "id": "cedd46e8-c469-40b6-b144-151fd3619357",
   "metadata": {},
   "outputs": [],
   "source": [
    "#create model instance\n",
    "print(\"Creating model to compute DAT...\")\n",
    "\n",
    "model = DatComputer(dat_data)\n",
    "\n",
    "print(\"Finished creating model.\")"
   ]
  },
  {
   "cell_type": "code",
   "execution_count": null,
   "id": "5880a0ed-3689-4cad-bc51-0b73c75bfadb",
   "metadata": {
    "tags": []
   },
   "outputs": [],
   "source": [
    "#Print out words not found in model\n",
    "print(model.inv_words())\n"
   ]
  },
  {
   "cell_type": "code",
   "execution_count": null,
   "id": "6307d53a-70d2-40bd-bca1-666ee8d34223",
   "metadata": {
    "tags": []
   },
   "outputs": [],
   "source": [
    "#compute the DAT score (default - for 7 words max)\n",
    "x = model.compute_dat()\n"
   ]
  },
  {
   "cell_type": "code",
   "execution_count": null,
   "id": "3b5b2cc4-d62b-4cb8-b3e6-5d3b531712cf",
   "metadata": {},
   "outputs": [],
   "source": [
    "#obtain a csv file for distances by pairs (max 7)\n",
    "model.save_distances()\n"
   ]
  },
  {
   "cell_type": "code",
   "execution_count": null,
   "id": "c15f09a3-8398-490e-a887-909644d922b4",
   "metadata": {},
   "outputs": [],
   "source": [
    "#summary statistics\n",
    "y = pd.Series(model.dat_values)\n",
    "y.describe()\n"
   ]
  }
 ],
 "metadata": {
  "kernelspec": {
   "display_name": "Python 3 (ipykernel)",
   "language": "python",
   "name": "python3"
  },
  "language_info": {
   "codemirror_mode": {
    "name": "ipython",
    "version": 3
   },
   "file_extension": ".py",
   "mimetype": "text/x-python",
   "name": "python",
   "nbconvert_exporter": "python",
   "pygments_lexer": "ipython3",
   "version": "3.8.13"
  }
 },
 "nbformat": 4,
 "nbformat_minor": 5
}
