{
 "cells": [
  {
   "cell_type": "markdown",
   "id": "ad04ab99-4d0a-4e96-8c28-a1ebcdd896a1",
   "metadata": {},
   "source": [
    "# DAT - simple scoring"
   ]
  },
  {
   "cell_type": "code",
   "execution_count": null,
   "id": "847db2e5-2179-41e0-bcd9-a1ebeea8dc36",
   "metadata": {
    "tags": []
   },
   "outputs": [],
   "source": [
    "import os\n",
    "import pandas as pd\n",
    "from data.create_database import read_data\n",
    "from src.distance_analyzer import DistanceAnalyzer\n",
    "from src.database_manager import DatabaseManager\n",
    "from src.word_cleaner import WordCleaner\n",
    "from src.dat_computer import DatComputer\n"
   ]
  },
  {
   "cell_type": "code",
   "execution_count": null,
   "id": "a5a04c2f-b884-4a82-9f31-4c2958369238",
   "metadata": {},
   "outputs": [],
   "source": [
    "filename = 'dat-data.xlsx'\n",
    "\n",
    "database_path = os.path.join('data', 'vectors.db')\n",
    "file_path = os.path.join('data', filename)"
   ]
  },
  {
   "cell_type": "code",
   "execution_count": null,
   "id": "d818eb9c-5dc7-4623-9119-8039479b397b",
   "metadata": {},
   "outputs": [],
   "source": [
    "dat_data = read_data(file_path)\n"
   ]
  },
  {
   "cell_type": "code",
   "execution_count": null,
   "id": "cedd46e8-c469-40b6-b144-151fd3619357",
   "metadata": {},
   "outputs": [],
   "source": [
    "#initialize class instances\n",
    "\n",
    "db_manager = DatabaseManager(database_path)\n",
    "data_cleaner = WordCleaner(db_manager)\n",
    "data_analyzer = DistanceAnalyzer(db_manager, data_cleaner)\n",
    "model = DatComputer(data_analyzer, data_cleaner, data=dat_data)\n"
   ]
  },
  {
   "cell_type": "code",
   "execution_count": null,
   "id": "5880a0ed-3689-4cad-bc51-0b73c75bfadb",
   "metadata": {
    "tags": []
   },
   "outputs": [],
   "source": [
    "#Print out words not found in model\n",
    "\n",
    "model.invalid_words()\n",
    "db_manager.disconnect()"
   ]
  },
  {
   "cell_type": "code",
   "execution_count": null,
   "id": "6307d53a-70d2-40bd-bca1-666ee8d34223",
   "metadata": {
    "tags": []
   },
   "outputs": [],
   "source": [
    "#compute the DAT score\n",
    "\n",
    "model.compute_dat()\n",
    "db_manager.disconnect()"
   ]
  },
  {
   "cell_type": "code",
   "execution_count": null,
   "id": "3b5b2cc4-d62b-4cb8-b3e6-5d3b531712cf",
   "metadata": {},
   "outputs": [],
   "source": [
    "#obtain a csv file for distances by pairs\n",
    "\n",
    "model.save_distances()\n",
    "db_manager.disconnect()"
   ]
  },
  {
   "cell_type": "code",
   "execution_count": null,
   "id": "c15f09a3-8398-490e-a887-909644d922b4",
   "metadata": {},
   "outputs": [],
   "source": [
    "#summary statistics\n",
    "\n",
    "y = pd.Series(model.dat_values)\n",
    "y.describe()"
   ]
  }
 ],
 "metadata": {
  "kernelspec": {
   "display_name": "Python 3 (ipykernel)",
   "language": "python",
   "name": "python3"
  },
  "language_info": {
   "codemirror_mode": {
    "name": "ipython",
    "version": 3
   },
   "file_extension": ".py",
   "mimetype": "text/x-python",
   "name": "python",
   "nbconvert_exporter": "python",
   "pygments_lexer": "ipython3",
   "version": "3.8.13"
  }
 },
 "nbformat": 4,
 "nbformat_minor": 5
}
