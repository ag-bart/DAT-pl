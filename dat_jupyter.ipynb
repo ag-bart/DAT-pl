{
 "cells": [
  {
   "cell_type": "markdown",
   "id": "bb8654ed-920f-467a-b8e8-6454e6cf6a66",
   "metadata": {},
   "source": [
    "# **Run the cells below to prepare the data (REQUIRED)**"
   ]
  },
  {
   "cell_type": "code",
   "execution_count": null,
   "id": "847db2e5-2179-41e0-bcd9-a1ebeea8dc36",
   "metadata": {},
   "outputs": [],
   "source": [
    "import time\n",
    "import dat\n",
    "import pandas as pd\n",
    "import numpy as np\n",
    "%pip install openpyxl\n",
    "import openpyxl"
   ]
  },
  {
   "cell_type": "code",
   "execution_count": null,
   "id": "cedd46e8-c469-40b6-b144-151fd3619357",
   "metadata": {},
   "outputs": [],
   "source": [
    "print(\"Creating model to compute DAT...\")\n",
    "\n",
    "model = dat.Model(\"glove_100_3_polish.txt\", \"words.txt\")\n",
    "\n",
    "print(\"Finished creating model.\")"
   ]
  },
  {
   "cell_type": "markdown",
   "id": "b1afabbb-638f-42e9-8672-8712f76096ae",
   "metadata": {},
   "source": [
    "**place the prepared xlsx file in the project's folder and change the filename accordingly**"
   ]
  },
  {
   "cell_type": "code",
   "execution_count": null,
   "id": "5880a0ed-3689-4cad-bc51-0b73c75bfadb",
   "metadata": {},
   "outputs": [],
   "source": [
    "file_name = 'dat-data.xlsx'"
   ]
  },
  {
   "cell_type": "code",
   "execution_count": null,
   "id": "6307d53a-70d2-40bd-bca1-666ee8d34223",
   "metadata": {
    "tags": []
   },
   "outputs": [],
   "source": [
    "try:\n",
    "    \n",
    "    df_upload = pd.read_excel(file_name, header=None)\n",
    "    df_upload = df_upload.fillna(value=' ')\n",
    "    data = df_upload.values.tolist()\n",
    "    print('upload successful')\n",
    "    \n",
    "except IndexError:\n",
    "    print('Error: upload a file first')\n",
    "    \n",
    "except FileNotFoundError:\n",
    "    print(f'Error: Could not find file: {file_name}.')"
   ]
  },
  {
   "cell_type": "markdown",
   "id": "ea903b90-3492-4f66-a365-5eeae17261e9",
   "metadata": {},
   "source": [
    "**Run cell below to obtain the DAT score**"
   ]
  },
  {
   "cell_type": "code",
   "execution_count": null,
   "id": "40118db2-08f3-4055-a0ae-7d4a07c0fb44",
   "metadata": {
    "tags": []
   },
   "outputs": [],
   "source": [
    "for i in data:\n",
    "    \n",
    "    try:\n",
    "        x = model.dat(i)\n",
    "        if x != None:\n",
    "            print(x.round(2))\n",
    "        else:\n",
    "            print(x)\n",
    "    \n",
    "    except TypeError:\n",
    "        print(i)"
   ]
  },
  {
   "cell_type": "markdown",
   "id": "5b4a6e54-37c9-4382-ab19-880605dbfad3",
   "metadata": {},
   "source": [
    "**Run cell below to obtain words not found in model**"
   ]
  },
  {
   "cell_type": "code",
   "execution_count": null,
   "id": "3b5b2cc4-d62b-4cb8-b3e6-5d3b531712cf",
   "metadata": {},
   "outputs": [],
   "source": [
    "inv_words_list = []\n",
    "\n",
    "for i in data:\n",
    "    \n",
    "    try:\n",
    "        x = model.invalid_words(i)\n",
    "        if len(x) < 1:\n",
    "            continue\n",
    "        print(', '.join(x))\n",
    "        inv_words_list.append(x)\n",
    "\n",
    "    except TypeError:\n",
    "        print(i)\n",
    "    \n",
    "if len(inv_words_list) < 1:\n",
    "    print(\"no invalid words\")"
   ]
  },
  {
   "cell_type": "markdown",
   "id": "a26f087b-4361-42ee-b2d7-c9f7f4989572",
   "metadata": {},
   "source": [
    "**Run cell below to obtain a html file with distances by pairs**"
   ]
  },
  {
   "cell_type": "code",
   "execution_count": null,
   "id": "8021bc91-96e4-48a3-a420-67aede71728e",
   "metadata": {},
   "outputs": [],
   "source": [
    "columns = ['W1-W2','W1-W3', 'W1-W4', 'W1-W5', 'W1-W6', 'W1-W7', \n",
    "                'W2-W3', 'W2-W4', 'W2-W5', 'W2-W6', 'W2-W7', \n",
    "                'W3-W4', 'W3-W5', 'W3-W6', 'W3-W7', \n",
    "                'W4-W5', 'W4-W6', 'W4-W7', \n",
    "                'W5-W6', 'W5-W7', \n",
    "                'W6-W7']\n",
    "\n",
    "\n",
    "date = time.strftime(\"%Y-%b-%d__%H_%M_%S\",time.localtime())\n",
    "\n",
    "word_pairs = []\n",
    "for i in data:\n",
    "    x = model.dat(i, all_words=True)\n",
    "    if x != None:\n",
    "        word_pairs.append(x)\n",
    "    else:\n",
    "        word_pairs.append([''])\n",
    "        \n",
    "\n",
    "df = pd.DataFrame(word_pairs, columns=columns)\n",
    "df.to_csv(f'dat_distances{date}.csv')"
   ]
  },
  {
   "cell_type": "markdown",
   "id": "fb330259-af4b-4d72-9df5-f6896423f6da",
   "metadata": {},
   "source": [
    "**Run cells below to obtain dat score and matrix for all given words (if 7 minimum were given)**"
   ]
  },
  {
   "cell_type": "code",
   "execution_count": null,
   "id": "d1c8282b-66ac-4a7e-93d7-41dfe8a7bdd6",
   "metadata": {},
   "outputs": [],
   "source": [
    "for i in data:\n",
    "    x = model.full_dat(i)\n",
    "    if x != None:\n",
    "        print(x.round(2))\n",
    "    else:\n",
    "        print(x)\n",
    "        "
   ]
  },
  {
   "cell_type": "code",
   "execution_count": null,
   "id": "da3c5454-e33f-42ac-a27b-22cb377999ba",
   "metadata": {},
   "outputs": [],
   "source": [
    "all_columns = ['W1-W2','W1-W3','W1-W4','W1-W5','W1-W6','W1-W7','W7-W8','W1-W9','W1-W10', \n",
    "                'W2-W3','W2-W4','W2-W5','W2-W6','W2-W7','W2-W8','W2-W9','W2-W10', \n",
    "                'W3-W4','W3-W5','W3-W6','W3-W7','W3-W8','W3-W9','W3-W10', \n",
    "                'W4-W5', 'W4-W6','W4-W7','W4-W8','W4-W9','W4-W10', \n",
    "                'W5-W6', 'W5-W7','W5-W8','W5-W9','W5-W10', \n",
    "                'W6-W7','W6-W8','W6-W9','W6-W10',\n",
    "                'W7-W8','W7-W9','W7-W10', \n",
    "                'W8-W9','W8-W10', \n",
    "                'W9-W10'\n",
    "              ]\n",
    "\n",
    "date = time.strftime(\"%Y-%b-%d__%H_%M_%S\",time.localtime())\n",
    "\n",
    "word_pairs = []\n",
    "for i in data:\n",
    "    x = model.full_dat(i,1)\n",
    "    if x != None:\n",
    "        word_pairs.append(x)\n",
    "    else:\n",
    "        word_pairs.append([''])\n",
    "        \n",
    "df = pd.DataFrame(word_pairs, columns=all_columns)\n",
    "df.to_csv(f'all_dat_distances{date}.csv')\n"
   ]
  },
  {
   "cell_type": "code",
   "execution_count": null,
   "id": "4f59ae07-16bd-43ca-8706-596d32a8b3b9",
   "metadata": {},
   "outputs": [],
   "source": []
  }
 ],
 "metadata": {
  "kernelspec": {
   "display_name": "Python 3 (ipykernel)",
   "language": "python",
   "name": "python3"
  },
  "language_info": {
   "codemirror_mode": {
    "name": "ipython",
    "version": 3
   },
   "file_extension": ".py",
   "mimetype": "text/x-python",
   "name": "python",
   "nbconvert_exporter": "python",
   "pygments_lexer": "ipython3",
   "version": "3.8.13"
  }
 },
 "nbformat": 4,
 "nbformat_minor": 5
}
