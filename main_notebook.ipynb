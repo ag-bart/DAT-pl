{
 "cells": [
  {
   "cell_type": "markdown",
   "id": "ad04ab99-4d0a-4e96-8c28-a1ebcdd896a1",
   "metadata": {},
   "source": [
    "# DAT - simple scoring"
   ]
  },
  {
   "cell_type": "code",
   "execution_count": null,
   "id": "847db2e5-2179-41e0-bcd9-a1ebeea8dc36",
   "metadata": {
    "tags": []
   },
   "outputs": [],
   "source": [
    "import configparser\n",
    "import pandas as pd \n",
    "\n",
    "from datpl.processing import DatabaseManager, DataProcessor\n",
    "from datpl.reader import read_data\n",
    "from datpl.analysis import DatComputer\n"
   ]
  },
  {
   "cell_type": "code",
   "execution_count": null,
   "id": "a5a04c2f-b884-4a82-9f31-4c2958369238",
   "metadata": {},
   "outputs": [],
   "source": [
    "# read the configuration file\n",
    "\n",
    "config = configparser.ConfigParser()\n",
    "config.read('config.ini')\n",
    "\n",
    "data_file = config.get('Data', 'data_file_path')\n",
    "database_path = config.get('Database', 'database_path')"
   ]
  },
  {
   "cell_type": "code",
   "execution_count": null,
   "id": "cedd46e8-c469-40b6-b144-151fd3619357",
   "metadata": {},
   "outputs": [],
   "source": [
    "# initialize objects for data processing\n",
    "\n",
    "dataset = read_data(data_file)\n",
    "db_manager = DatabaseManager(database_path)\n",
    "data_cleaner = DataProcessor(words=db_manager.get_words())"
   ]
  },
  {
   "cell_type": "code",
   "execution_count": null,
   "id": "6edb243c-67c6-4fba-b2ce-50037c7e9792",
   "metadata": {},
   "outputs": [],
   "source": [
    "# validate dataset against the database\n",
    "\n",
    "processed_dataset, invalid_words = data_cleaner.process_dataset(dataset)"
   ]
  },
  {
   "cell_type": "code",
   "execution_count": null,
   "id": "06de3ec1-ef7b-44cb-9633-d96ecb7e57a1",
   "metadata": {},
   "outputs": [],
   "source": [
    "# look up words that were not found in the database \n",
    "\n",
    "invalid_words"
   ]
  },
  {
   "cell_type": "code",
   "execution_count": null,
   "id": "d69e128d-265e-4c7d-9b05-c5e66b880672",
   "metadata": {},
   "outputs": [],
   "source": [
    "# initialise the main class for scoring DAT \n",
    "\n",
    "model = DatComputer(db_manager, processed_dataset)"
   ]
  },
  {
   "cell_type": "code",
   "execution_count": null,
   "id": "6307d53a-70d2-40bd-bca1-666ee8d34223",
   "metadata": {
    "tags": []
   },
   "outputs": [],
   "source": [
    "#compute the DAT score\n",
    "\n",
    "model.dataset_compute_dat()\n",
    "db_manager.disconnect()"
   ]
  },
  {
   "cell_type": "code",
   "execution_count": null,
   "id": "3b5b2cc4-d62b-4cb8-b3e6-5d3b531712cf",
   "metadata": {},
   "outputs": [],
   "source": [
    "# obtain a csv file for distances by pairs\n",
    "\n",
    "model.save_results()\n",
    "db_manager.disconnect()"
   ]
  },
  {
   "cell_type": "code",
   "execution_count": null,
   "id": "c15f09a3-8398-490e-a887-909644d922b4",
   "metadata": {},
   "outputs": [],
   "source": [
    "# summary statistics\n",
    "\n",
    "y = pd.Series(model.dat_values)\n",
    "y.describe()"
   ]
  }
 ],
 "metadata": {
  "kernelspec": {
   "display_name": "Python 3 (ipykernel)",
   "language": "python",
   "name": "python3"
  },
  "language_info": {
   "codemirror_mode": {
    "name": "ipython",
    "version": 3
   },
   "file_extension": ".py",
   "mimetype": "text/x-python",
   "name": "python",
   "nbconvert_exporter": "python",
   "pygments_lexer": "ipython3",
   "version": "3.8.13"
  }
 },
 "nbformat": 4,
 "nbformat_minor": 5
}
